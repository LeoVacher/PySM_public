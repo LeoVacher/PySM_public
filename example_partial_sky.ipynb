{
 "cells": [
  {
   "cell_type": "markdown",
   "metadata": {
    "deletable": true,
    "editable": true
   },
   "source": [
    "# Example of running pysm on partial sky\n",
    "\n",
    "There are two main modules to import when using PySM, `pysm` and `models`:"
   ]
  },
  {
   "cell_type": "code",
   "execution_count": null,
   "metadata": {
    "collapsed": true,
    "deletable": true,
    "editable": true
   },
   "outputs": [],
   "source": [
    "import pysm\n",
    "\n",
    "import numpy as np\n",
    "import healpy as hp\n",
    "import matplotlib.pyplot as plt\n",
    "%matplotlib inline"
   ]
  },
  {
   "cell_type": "code",
   "execution_count": null,
   "metadata": {},
   "outputs": [],
   "source": [
    "from pysm.nominal import models"
   ]
  },
  {
   "cell_type": "markdown",
   "metadata": {
    "deletable": true,
    "editable": true
   },
   "source": [
    "## Sky\n",
    "\n",
    "`Sky` configuration dictionary. The keys specify which\n",
    "components will be present; the items are lists\n",
    "containing configuration dictionaries for each population of a component. \n",
    "Here we use some of the predefined models provided with `PySM` which can be accessed from the `models` module.\n",
    "\n",
    "`pixel_indices` is a `numpy` array of integer pixel indices in RING ordering."
   ]
  },
  {
   "cell_type": "code",
   "execution_count": null,
   "metadata": {
    "collapsed": true,
    "deletable": true,
    "editable": true
   },
   "outputs": [],
   "source": [
    "nside = 64\n",
    "npix = hp.nside2npix(nside)\n",
    "pixel_indices = np.arange(npix//2-4000, npix//2+4000, dtype=np.int)\n",
    "sky_config = {\n",
    "    'synchrotron' : models(\"s1\", nside, pixel_indices=pixel_indices),\n",
    "    'dust' : models(\"d8\", nside, pixel_indices=pixel_indices),\n",
    "    'freefree' : models(\"f1\", nside, pixel_indices=pixel_indices),\n",
    "    'cmb' : models(\"c1\", nside, pixel_indices=pixel_indices),\n",
    "    'ame' : models(\"a1\", nside, pixel_indices=pixel_indices),\n",
    "}"
   ]
  },
  {
   "cell_type": "code",
   "execution_count": null,
   "metadata": {
    "collapsed": false,
    "deletable": true,
    "editable": true
   },
   "outputs": [],
   "source": [
    "# initialise Sky \n",
    "sky = pysm.Sky(sky_config)"
   ]
  },
  {
   "cell_type": "code",
   "execution_count": null,
   "metadata": {},
   "outputs": [],
   "source": [
    "len(pixel_indices)"
   ]
  },
  {
   "cell_type": "code",
   "execution_count": null,
   "metadata": {},
   "outputs": [],
   "source": [
    "len(sky.ame(nu=40)[0])"
   ]
  },
  {
   "cell_type": "code",
   "execution_count": null,
   "metadata": {},
   "outputs": [],
   "source": [
    "def build_partial_map(pixel_indices, pixel_values):\n",
    "    partial_map = np.nan * np.empty(hp.nside2npix(nside))\n",
    "    partial_map[pixel_indices] = pixel_values\n",
    "    return partial_map"
   ]
  },
  {
   "cell_type": "code",
   "execution_count": null,
   "metadata": {},
   "outputs": [],
   "source": [
    "ame_map = build_partial_map(pixel_indices, sky.ame(nu=40)[0])\n",
    "hp.mollview(ame_map, title=\"AME partial map\", min=0, max=3000)"
   ]
  },
  {
   "cell_type": "code",
   "execution_count": null,
   "metadata": {
    "collapsed": false,
    "deletable": true,
    "editable": true
   },
   "outputs": [],
   "source": [
    "# Sky then has attributes corresponding to each of the sky\n",
    "# components which return that component for a given frequency:\n",
    "cmb = sky.cmb(nu = 23.)\n",
    "\n",
    "fig = plt.figure(figsize = (13, 8))\n",
    "hp.mollview(build_partial_map(pixel_indices, cmb[0]), min = -250, max = 250, title = 'cmb I', sub = (131))\n",
    "hp.mollview(build_partial_map(pixel_indices, cmb[1]), min = -5, max = 5, title = 'cmb Q', sub = (132))\n",
    "hp.mollview(build_partial_map(pixel_indices, cmb[2]), min = -5, max = 5, title = 'cmb U', sub = (133))\n",
    "plt.show()"
   ]
  },
  {
   "cell_type": "code",
   "execution_count": null,
   "metadata": {
    "collapsed": false,
    "deletable": true,
    "editable": true
   },
   "outputs": [],
   "source": [
    "dust = sky.dust(300.)\n",
    "fig = plt.figure(figsize = (13, 8))\n",
    "hp.mollview(build_partial_map(pixel_indices, dust[0]), min = 0, max = 400, title = 'Dust I', sub = (131))\n",
    "hp.mollview(build_partial_map(pixel_indices, dust[1]), min = -5, max = 10, title = 'Dust Q', sub = (132))\n",
    "hp.mollview(build_partial_map(pixel_indices, dust[2]), min = -5, max = 10, title = 'Dust U', sub = (133))\n",
    "plt.show()"
   ]
  },
  {
   "cell_type": "code",
   "execution_count": null,
   "metadata": {
    "collapsed": false,
    "deletable": true,
    "editable": true
   },
   "outputs": [],
   "source": [
    "# or the total signal as a function of frequency:\n",
    "total = sky.signal()(100.)\n",
    "fig = plt.figure(figsize = (13, 8))\n",
    "hp.mollview(build_partial_map(pixel_indices, total[0]), min = -250, max = 250, title = 'Total I', sub = (131))\n",
    "hp.mollview(build_partial_map(pixel_indices, total[1]), min = -5, max = 5, title = 'Total Q', sub = (132))\n",
    "hp.mollview(build_partial_map(pixel_indices, total[2]), min = -5, max = 5, title = 'Total U', sub = (133))\n",
    "plt.show()"
   ]
  },
  {
   "cell_type": "markdown",
   "metadata": {
    "deletable": true,
    "editable": true
   },
   "source": [
    "We can also evaluate the signal for a vector of frequencies:"
   ]
  },
  {
   "cell_type": "markdown",
   "metadata": {
    "deletable": true,
    "editable": true
   },
   "source": [
    "## Instrument\n",
    "\n",
    "If we want to add instrument effects then use the `Instrument` class. Since this isn't easily a function of frequency it writes maps to file for a given set of observation frequencies, noise, bandpass etc.\n",
    "\n",
    "Instantiating the `Instrument` object requires a configuration dictionary, as in the case of `Sky`. \n",
    "\n",
    "### Delta Bandpasses\n",
    "\n",
    "First we will consider the case of delta bandpasses, and so we use the `frequencies` key to specify the observation frequencies. \n",
    "\n",
    "We need to pass the `pixel_indices` array also to the instrument configuration dictionary.\n"
   ]
  },
  {
   "cell_type": "code",
   "execution_count": null,
   "metadata": {
    "collapsed": false,
    "deletable": true,
    "editable": true
   },
   "outputs": [],
   "source": [
    "instrument_delta_bpass = {\n",
    "    'frequencies' : np.logspace(1., 3., 20),\n",
    "    'beams' : np.ones(20)*70.,\n",
    "    'sens_I' : np.ones(20),\n",
    "    'sens_P' : np.ones(20),\n",
    "    'nside' : nside,\n",
    "    'noise_seed' : 1234,\n",
    "    'use_bandpass' : False,\n",
    "    'add_noise' : True,\n",
    "    'output_units' : 'uK_RJ',\n",
    "    'use_smoothing' : True,\n",
    "    'output_directory' : './',\n",
    "    'output_prefix' : 'test',\n",
    "    'pixel_indices' : pixel_indices\n",
    "}\n",
    "\n",
    "instrument = pysm.Instrument(instrument_delta_bpass)\n",
    "instrument.observe(sky)"
   ]
  },
  {
   "cell_type": "code",
   "execution_count": null,
   "metadata": {},
   "outputs": [],
   "source": [
    "%ls *.fits"
   ]
  },
  {
   "cell_type": "code",
   "execution_count": null,
   "metadata": {},
   "outputs": [],
   "source": [
    "hp.mollview(hp.read_map(\"test_nu0010p00GHz_total_nside0064.fits\"), min=0, max=4e4, title=\"10 GHz\")"
   ]
  },
  {
   "cell_type": "code",
   "execution_count": null,
   "metadata": {},
   "outputs": [],
   "source": [
    "hp.mollview(hp.read_map(\"test_nu1000p00GHz_total_nside0064.fits\"), min=0, max=4e4, title=\"1000 GHz\")"
   ]
  },
  {
   "cell_type": "markdown",
   "metadata": {
    "deletable": true,
    "editable": true
   },
   "source": [
    "### Arbitrary Bandpasses\n",
    "\n",
    "Next we consider tophat bandpasses, which we give as a list of tuples: `[(frequencies_1, weights_1), (frequencies_2, weights_2) ... ]` to the `channel` key. We must also provide names of these channels as a list of strings to the `channel_names` key. In this case we do not need to set `frequencies` since all outputs are defined by the bandpasses."
   ]
  },
  {
   "cell_type": "code",
   "execution_count": null,
   "metadata": {
    "collapsed": false,
    "deletable": true,
    "editable": true
   },
   "outputs": [],
   "source": [
    "instrument_bpass = {\n",
    "    'use_smoothing' : True,\n",
    "    'beams' : np.array([30., 40., 50.]), # beam fwhm in arcmin\n",
    "    'nside' : nside,\n",
    "    'add_noise' : True,\n",
    "    'sens_P' : np.array([4.5, 4.2, 3.1]), # channel sensitivities in uK_CMB amin\n",
    "    'sens_I' : np.array([3.5, 3.2, 2.1]),\n",
    "    'use_bandpass' : True,\n",
    "    'channels' : [(np.linspace(20, 25, 10), np.ones(10)), (np.linspace(30, 35, 10), np.ones(10)), (np.linspace(40, 45, 10), np.ones(10))],\n",
    "    'channel_names' : ['channel_1', 'channel_2', 'channel_3'],\n",
    "    'output_units' : 'uK_RJ',\n",
    "    'output_directory' : './',\n",
    "    'output_prefix' : 'test',\n",
    "    'noise_seed' : 1234,\n",
    "    'pixel_indices' : pixel_indices\n",
    "}\n",
    "\n",
    "instrument = pysm.Instrument(instrument_bpass)\n",
    "instrument.observe(sky)"
   ]
  }
 ],
 "metadata": {
  "kernelspec": {
   "display_name": "PySM 2",
   "language": "python",
   "name": "pysm2"
  },
  "language_info": {
   "codemirror_mode": {
    "name": "ipython",
    "version": 3
   },
   "file_extension": ".py",
   "mimetype": "text/x-python",
   "name": "python",
   "nbconvert_exporter": "python",
   "pygments_lexer": "ipython3",
   "version": "3.6.2"
  }
 },
 "nbformat": 4,
 "nbformat_minor": 2
}
