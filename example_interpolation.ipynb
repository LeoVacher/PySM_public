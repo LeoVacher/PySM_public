{
 "cells": [
  {
   "cell_type": "markdown",
   "metadata": {},
   "source": [
    "# Non-parametric models\n",
    "\n",
    "Here we describe the `PySM` interface to models that can not be described parametrically. `PySM` allows for a set of emission templates at different frequencies to be provided, and then interpolates between these templates in each pixel. \n",
    "\n",
    "## Interface\n",
    "\n",
    "In order to implement your model in `PySM` in this way:\n",
    "\n",
    "1. Provide a data directory containing a set of $N$ fits files at frequencies $\\nu_i$ where $i = 1, 2, ..., N$, each containing the model $[T, Q, U][\\nu_i]$ maps. \n",
    "2. In this directory provide a file in with two columns:\n",
    "    - Column 1: each row is frequency $\\nu_i$ in GHz. \n",
    "    - Column 2: each row is the path to the file containing the $(T, Q, U)[\\nu_i]$. \n",
    "3. In [`pysm.nominal`](pysm/nominal.py) add a model dictionary with `interpolation=True` and `interp_file='path/to/info/file'`, e.g.: \n",
    "```python\n",
    "    def dust_interpolation(nside, pixel_indices=None):\n",
    "        return {\n",
    "            'interpolation': True,\n",
    "            'interp_file': '/absolute/path/to/file/with/info',\n",
    "        }\n",
    "```\n",
    "4. You can now call this model in the same way as other components: \n",
    "```python\n",
    "    import pysm\n",
    "    from pysm.nominal import models\n",
    "    \n",
    "    def main():\n",
    "        # Specify the model just created. \n",
    "        sky_config = {'dust': models('dust_interpolation', nside)}\n",
    "        sky = pysm.Sky(sky_config)\n",
    "        return\n",
    "```\n",
    "\n",
    "## Implementation\n",
    "\n",
    "`PySM` reads in the $3N$ maps, and does a cubic spline interpolation between freuqencies, in each pixel. The interpolation uses the [`scipy.interpolate.CubicSpline`](https://docs.scipy.org/doc/scipy-0.18.1/reference/generated/scipy.interpolate.CubicSpline.html) routine, with `extrapolation=True`. This means that if the spline is queried at $\\nu>\\nu_N$ or $\\nu<\\nu_0$, it will not fail, but will extrapolate the data provided. It is the user's responsibility to ensure that the model provided is densely sampled enough in frequency, and covers a broad enough range of frequencies, that this implementation does not produce undesired results. \n",
    "\n",
    "## Example\n",
    "\n",
    "We now provide an example of implementing a model in this way, from scratch. \n",
    "\n",
    "In order to generate the $N$ samples let's just use a simple model:\n"
   ]
  },
  {
   "cell_type": "code",
   "execution_count": 18,
   "metadata": {
    "collapsed": false
   },
   "outputs": [],
   "source": [
    "import numpy as np\n",
    "import healpy as hp\n",
    "import os\n",
    "\n",
    "def power_law(nu, nu_0, beta):\n",
    "    return (nu / nu_0) ** beta \n",
    "\n",
    "n_maps = 10 # number of samples to generate\n",
    "nu_0 = 353. # reference frequency in model\n",
    "nu_min = 100 # minimum frequency to include\n",
    "nu_max = 400 # maximum frequency to include\n",
    "nside = 64 # nside at which to generate samples\n",
    "npix = hp.nside2npix(nside)\n",
    "# Make array of frequencies\n",
    "nus = np.linspace(nu_min, nu_max, n_maps)\n",
    "# Make spectral index maps\n",
    "index = 1.5 + 0.05 * np.random.randn(3 * npix).reshape((3, npix))\n",
    "# Make sample maps\n",
    "maps = power_law(nus.reshape(len(nus), 1, 1), nu_0, index)\n",
    "# Make paths in which to store these sample maps\n",
    "data_dir = os.path.abspath(os.path.dirname('.'))\n",
    "fpaths = [os.path.join(data_dir, 'map{:03d}.fits'.format(i)) for i in range(len(maps))]\n",
    "# Save the sample maps\n",
    "for fpath, hpix_map in zip(fpaths, maps):\n",
    "    hp.write_map(fpath, hpix_map, overwrite=True)\n",
    "# Make an example info file that will be given to PySM with paths to the data. \n",
    "dat = np.array(zip(nus, fpaths), dtype=[('nus', float), ('paths', object)])\n",
    "np.savetxt('test.txt', dat, delimiter=\" \", fmt=\"%.4f %s\")"
   ]
  },
  {
   "cell_type": "markdown",
   "metadata": {},
   "source": [
    "The contents of the info file are:"
   ]
  },
  {
   "cell_type": "code",
   "execution_count": 19,
   "metadata": {
    "collapsed": false
   },
   "outputs": [
    {
     "name": "stdout",
     "output_type": "stream",
     "text": [
      "100.0000 /home/bthorne/Projects/PySM/PySM_public/map000.fits\r\n",
      "133.3333 /home/bthorne/Projects/PySM/PySM_public/map001.fits\r\n",
      "166.6667 /home/bthorne/Projects/PySM/PySM_public/map002.fits\r\n",
      "200.0000 /home/bthorne/Projects/PySM/PySM_public/map003.fits\r\n",
      "233.3333 /home/bthorne/Projects/PySM/PySM_public/map004.fits\r\n",
      "266.6667 /home/bthorne/Projects/PySM/PySM_public/map005.fits\r\n",
      "300.0000 /home/bthorne/Projects/PySM/PySM_public/map006.fits\r\n",
      "333.3333 /home/bthorne/Projects/PySM/PySM_public/map007.fits\r\n",
      "366.6667 /home/bthorne/Projects/PySM/PySM_public/map008.fits\r\n",
      "400.0000 /home/bthorne/Projects/PySM/PySM_public/map009.fits\r\n"
     ]
    }
   ],
   "source": [
    "!cat 'test.txt'"
   ]
  },
  {
   "cell_type": "markdown",
   "metadata": {},
   "source": [
    "Let's then make the new model dictionary that this would correspond to. In practice we would need to be more careful about paths, because this dictionary would probably live in `pysm.nominal`. But here we are just defining the dictionary in this notebook."
   ]
  },
  {
   "cell_type": "code",
   "execution_count": 20,
   "metadata": {
    "collapsed": true
   },
   "outputs": [],
   "source": [
    "interp_model = [{\n",
    "    'interpolation': True,\n",
    "    'interp_file': 'test.txt',\n",
    "    'nside': 64,\n",
    "    'pixel_indices': None,\n",
    "}]"
   ]
  },
  {
   "cell_type": "code",
   "execution_count": 21,
   "metadata": {
    "collapsed": false
   },
   "outputs": [],
   "source": [
    "import pysm\n",
    "sky_config = {'synchrotron': interp_model}\n",
    "sky = pysm.Sky(sky_config)\n",
    "signal = sky.signal()"
   ]
  },
  {
   "cell_type": "markdown",
   "metadata": {},
   "source": [
    "Now check the implementation by comparing the input model and the interpolated version. "
   ]
  },
  {
   "cell_type": "code",
   "execution_count": 22,
   "metadata": {
    "collapsed": false
   },
   "outputs": [
    {
     "data": {
      "text/plain": [
       "[<matplotlib.lines.Line2D at 0x7fab9dc45d50>]"
      ]
     },
     "execution_count": 22,
     "metadata": {},
     "output_type": "execute_result"
    },
    {
     "data": {
      "image/png": "[encoded data removed]",
      "text/plain": [
       "<matplotlib.figure.Figure at 0x7fab9dc87150>"
      ]
     },
     "metadata": {},
     "output_type": "display_data"
    }
   ],
   "source": [
    "nus_test = np.linspace(nu_min, nu_max, n_maps * 2)\n",
    "\n",
    "\n",
    "import matplotlib.pyplot as plt\n",
    "%matplotlib inline \n",
    "fig, ax = plt.subplots(1, 1, figsize=(5, 3.5))\n",
    "ax.plot(nus_test, signal(nus_test)[:, 0, 1])\n",
    "ax.plot(nus_test, power_law(nus_test.reshape(len(nus_test), 1, 1), nu_0, index)[:, 0, 1])"
   ]
  },
  {
   "cell_type": "markdown",
   "metadata": {},
   "source": [
    "So we see excellent agreement for such a simple model, even with only very few samples. Now clean up and remove the generated sample maps:"
   ]
  },
  {
   "cell_type": "code",
   "execution_count": 23,
   "metadata": {
    "collapsed": true
   },
   "outputs": [],
   "source": [
    "# Remove maps\n",
    "for fpath, hpix_map in zip(fpaths, maps):\n",
    "    os.remove(fpath)\n",
    "# Remove info file\n",
    "os.remove('test.txt')"
   ]
  },
  {
   "cell_type": "code",
   "execution_count": null,
   "metadata": {
    "collapsed": true
   },
   "outputs": [],
   "source": []
  }
 ],
 "metadata": {
  "kernelspec": {
   "display_name": "Python 2",
   "language": "python",
   "name": "python2"
  },
  "language_info": {
   "codemirror_mode": {
    "name": "ipython",
    "version": 2
   },
   "file_extension": ".py",
   "mimetype": "text/x-python",
   "name": "python",
   "nbconvert_exporter": "python",
   "pygments_lexer": "ipython2",
   "version": "2.7.12"
  }
 },
 "nbformat": 4,
 "nbformat_minor": 2
}
