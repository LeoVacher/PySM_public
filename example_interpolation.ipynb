{
 "cells": [
  {
   "cell_type": "markdown",
   "metadata": {},
   "source": [
    "# Non-parametric models\n",
    "\n",
    "Here we describe the `PySM` interface to models that can not be described parametrically. `PySM` allows for a set of emission templates at different frequencies to be provided, and then interpolates between these templates in each pixel. \n",
    "\n",
    "## Interface\n",
    "\n",
    "In order to implement your model in `PySM` in this way:\n",
    "\n",
    "1. Provide a data directory containing a set of $N$ fits files at frequencies $\\nu_i$ where $i = 1, 2, ..., N$, each containing the model $[T, Q, U][\\nu_i]$ maps. \n",
    "2. In this directory provide a file in with two columns:\n",
    "    - Column 1: each row is frequency $\\nu_i$ in GHz. \n",
    "    - Column 2: each row is the path to the file containing the $(T, Q, U)[\\nu_i]$. \n",
    "3. In [`pysm.nominal`](pysm/nominal.py) add a model dictionary with `interpolation=True` and `info_file='path/to/info/file'`, e.g.: \n",
    "```python\n",
    "    def dust_interpolation(nside, pixel_indices=None):\n",
    "        return {\n",
    "            'interpolation': True,\n",
    "            'info_file': '/absolute/path/to/file/with/info',\n",
    "        }\n",
    "```\n",
    "4. You can now call this model in the same way as other components: \n",
    "```python\n",
    "    import pysm\n",
    "    from pysm.nominal import models\n",
    "    \n",
    "    def main():\n",
    "        # Specify the model just created. \n",
    "        sky_config = {'dust': models('dust_interpolation', nside)}\n",
    "        sky = pysm.Sky(sky_config)\n",
    "        return\n",
    "```\n",
    "\n",
    "## Implementation\n",
    "\n",
    "`PySM` reads in the $3N$ maps, and does a cubic spline interpolation between freuqencies, in each pixel. The interpolation uses the [`scipy.interpolate.CubicSpline`](https://docs.scipy.org/doc/scipy-0.18.1/reference/generated/scipy.interpolate.CubicSpline.html) routine, with `extrapolation=True`. This means that if the spline is queried at $\\nu>\\nu_N$ or $\\nu<\\nu_0$, it will not fail, but will extrapolate the data provided. It is the user's responsibility to ensure that the model provided is densely sampled enough in frequency, and covers a broad enough range of frequencies, that this implementation does not produce undesired results. \n",
    "\n",
    "## Example\n",
    "\n",
    "We now provide an example of implementing a model in this way, from scratch. \n",
    "\n",
    "In order to generate the $N$ samples let's just use a simple model:\n"
   ]
  },
  {
   "cell_type": "code",
   "execution_count": 27,
   "metadata": {
    "collapsed": false
   },
   "outputs": [
    {
     "name": "stdout",
     "output_type": "stream",
     "text": [
      "['/home/bthorne/Projects/PySM/PySM_public/map000.fits', '/home/bthorne/Projects/PySM/PySM_public/map001.fits', '/home/bthorne/Projects/PySM/PySM_public/map002.fits', '/home/bthorne/Projects/PySM/PySM_public/map003.fits', '/home/bthorne/Projects/PySM/PySM_public/map004.fits', '/home/bthorne/Projects/PySM/PySM_public/map005.fits', '/home/bthorne/Projects/PySM/PySM_public/map006.fits', '/home/bthorne/Projects/PySM/PySM_public/map007.fits', '/home/bthorne/Projects/PySM/PySM_public/map008.fits', '/home/bthorne/Projects/PySM/PySM_public/map009.fits', '/home/bthorne/Projects/PySM/PySM_public/map010.fits', '/home/bthorne/Projects/PySM/PySM_public/map011.fits', '/home/bthorne/Projects/PySM/PySM_public/map012.fits', '/home/bthorne/Projects/PySM/PySM_public/map013.fits', '/home/bthorne/Projects/PySM/PySM_public/map014.fits', '/home/bthorne/Projects/PySM/PySM_public/map015.fits', '/home/bthorne/Projects/PySM/PySM_public/map016.fits', '/home/bthorne/Projects/PySM/PySM_public/map017.fits', '/home/bthorne/Projects/PySM/PySM_public/map018.fits', '/home/bthorne/Projects/PySM/PySM_public/map019.fits']\n"
     ]
    }
   ],
   "source": [
    "import numpy as np\n",
    "import healpy as hp\n",
    "import os\n",
    "\n",
    "def power_law(nu, nu_0, beta):\n",
    "    return (nu / nu_0) ** beta \n",
    "\n",
    "n_maps = 20 # number of samples to generate\n",
    "nu_0 = 353. # reference frequency in model\n",
    "nu_min = 100 # minimum frequency to include\n",
    "nu_max = 400 # maximum frequency to include\n",
    "nside = 64 # nside at which to generate samples\n",
    "npix = hp.nside2npix(nside)\n",
    "# Make array of frequencies\n",
    "nus = np.linspace(nu_min, nu_max, n_maps)\n",
    "# Make spectral index maps\n",
    "index = 1.5 + 0.05 * np.random.randn(3 * npix).reshape((3, npix))\n",
    "# Make sample maps\n",
    "maps = power_law(nus.reshape(len(nus), 1, 1), nu_0, index)\n",
    "# Make paths in which to store these sample maps\n",
    "data_dir = os.path.abspath(os.path.dirname('.'))\n",
    "fpaths = [os.path.join(data_dir, 'map{:03d}.fits'.format(i)) for i in range(len(maps))]\n",
    "# Save the sample maps\n",
    "for fpath, hpix_map in zip(fpaths, maps):\n",
    "    hp.write_map(fpath, hpix_map, overwrite=True)\n",
    "# Make an example info file that will be given to PySM with paths to the data. \n",
    "dat = np.array(zip(nus, fpaths), dtype=[('nus', float), ('paths', object)])\n",
    "np.savetxt('test.txt', dat, delimiter=\" \", fmt=\"%.4f %s\")"
   ]
  },
  {
   "cell_type": "markdown",
   "metadata": {},
   "source": [
    "The contents of the info file are:"
   ]
  },
  {
   "cell_type": "code",
   "execution_count": 25,
   "metadata": {
    "collapsed": false
   },
   "outputs": [
    {
     "name": "stdout",
     "output_type": "stream",
     "text": [
      "100.0000 /home/bthorne/Projects/PySM/PySM_public/map000.fits\r\n",
      "115.7895 /home/bthorne/Projects/PySM/PySM_public/map001.fits\r\n",
      "131.5789 /home/bthorne/Projects/PySM/PySM_public/map002.fits\r\n",
      "147.3684 /home/bthorne/Projects/PySM/PySM_public/map003.fits\r\n",
      "163.1579 /home/bthorne/Projects/PySM/PySM_public/map004.fits\r\n",
      "178.9474 /home/bthorne/Projects/PySM/PySM_public/map005.fits\r\n",
      "194.7368 /home/bthorne/Projects/PySM/PySM_public/map006.fits\r\n",
      "210.5263 /home/bthorne/Projects/PySM/PySM_public/map007.fits\r\n",
      "226.3158 /home/bthorne/Projects/PySM/PySM_public/map008.fits\r\n",
      "242.1053 /home/bthorne/Projects/PySM/PySM_public/map009.fits\r\n",
      "257.8947 /home/bthorne/Projects/PySM/PySM_public/map010.fits\r\n",
      "273.6842 /home/bthorne/Projects/PySM/PySM_public/map011.fits\r\n",
      "289.4737 /home/bthorne/Projects/PySM/PySM_public/map012.fits\r\n",
      "305.2632 /home/bthorne/Projects/PySM/PySM_public/map013.fits\r\n",
      "321.0526 /home/bthorne/Projects/PySM/PySM_public/map014.fits\r\n",
      "336.8421 /home/bthorne/Projects/PySM/PySM_public/map015.fits\r\n",
      "352.6316 /home/bthorne/Projects/PySM/PySM_public/map016.fits\r\n",
      "368.4211 /home/bthorne/Projects/PySM/PySM_public/map017.fits\r\n",
      "384.2105 /home/bthorne/Projects/PySM/PySM_public/map018.fits\r\n",
      "400.0000 /home/bthorne/Projects/PySM/PySM_public/map019.fits\r\n"
     ]
    }
   ],
   "source": [
    "!cat 'test.txt'"
   ]
  },
  {
   "cell_type": "markdown",
   "metadata": {},
   "source": [
    "Let's then make the new model dictionary that this would correspond to. In practice we would need to be more careful about paths, because this dictionary would probably live in `pysm.nominal`. But here we are just defining the dictionary in this notebook."
   ]
  },
  {
   "cell_type": "code",
   "execution_count": 28,
   "metadata": {
    "collapsed": true
   },
   "outputs": [],
   "source": [
    "interp_model = {\n",
    "    'interpolation': True,\n",
    "    'info_file': 'test.txt',\n",
    "}"
   ]
  },
  {
   "cell_type": "code",
   "execution_count": 29,
   "metadata": {
    "collapsed": false
   },
   "outputs": [
    {
     "ename": "AttributeError",
     "evalue": "'str' object has no attribute 'keys'",
     "output_type": "error",
     "traceback": [
      "\u001b[0;31m---------------------------------------------------------------------------\u001b[0m",
      "\u001b[0;31mAttributeError\u001b[0m                            Traceback (most recent call last)",
      "\u001b[0;32m<ipython-input-29-05ecb19e857b>\u001b[0m in \u001b[0;36m<module>\u001b[0;34m()\u001b[0m\n\u001b[1;32m      1\u001b[0m \u001b[0;32mimport\u001b[0m \u001b[0mpysm\u001b[0m\u001b[0;34m\u001b[0m\u001b[0m\n\u001b[1;32m      2\u001b[0m \u001b[0msky_config\u001b[0m \u001b[0;34m=\u001b[0m \u001b[0;34m{\u001b[0m\u001b[0;34m'dust'\u001b[0m\u001b[0;34m:\u001b[0m \u001b[0minterp_model\u001b[0m\u001b[0;34m}\u001b[0m\u001b[0;34m\u001b[0m\u001b[0m\n\u001b[0;32m----> 3\u001b[0;31m \u001b[0msky\u001b[0m \u001b[0;34m=\u001b[0m \u001b[0mpysm\u001b[0m\u001b[0;34m.\u001b[0m\u001b[0mSky\u001b[0m\u001b[0;34m(\u001b[0m\u001b[0msky_config\u001b[0m\u001b[0;34m)\u001b[0m\u001b[0;34m\u001b[0m\u001b[0m\n\u001b[0m",
      "\u001b[0;32m/home/bthorne/Projects/PySM/PySM_public/pysm/pysm.py\u001b[0m in \u001b[0;36m__init__\u001b[0;34m(self, config)\u001b[0m\n\u001b[1;32m     67\u001b[0m             \u001b[0mself\u001b[0m\u001b[0;34m.\u001b[0m\u001b[0mcmb\u001b[0m \u001b[0;34m=\u001b[0m \u001b[0mcomponent_adder\u001b[0m\u001b[0;34m(\u001b[0m\u001b[0mCMB\u001b[0m\u001b[0;34m,\u001b[0m \u001b[0mself\u001b[0m\u001b[0;34m.\u001b[0m\u001b[0mConfig\u001b[0m\u001b[0;34m[\u001b[0m\u001b[0;34m'cmb'\u001b[0m\u001b[0;34m]\u001b[0m\u001b[0;34m)\u001b[0m\u001b[0;34m\u001b[0m\u001b[0m\n\u001b[1;32m     68\u001b[0m         \u001b[0;32mif\u001b[0m \u001b[0;34m'dust'\u001b[0m \u001b[0;32min\u001b[0m \u001b[0mself\u001b[0m\u001b[0;34m.\u001b[0m\u001b[0mComponents\u001b[0m\u001b[0;34m:\u001b[0m\u001b[0;34m\u001b[0m\u001b[0m\n\u001b[0;32m---> 69\u001b[0;31m             \u001b[0mself\u001b[0m\u001b[0;34m.\u001b[0m\u001b[0mdust\u001b[0m \u001b[0;34m=\u001b[0m \u001b[0mcomponent_adder\u001b[0m\u001b[0;34m(\u001b[0m\u001b[0mDust\u001b[0m\u001b[0;34m,\u001b[0m \u001b[0mself\u001b[0m\u001b[0;34m.\u001b[0m\u001b[0mConfig\u001b[0m\u001b[0;34m[\u001b[0m\u001b[0;34m'dust'\u001b[0m\u001b[0;34m]\u001b[0m\u001b[0;34m)\u001b[0m\u001b[0;34m\u001b[0m\u001b[0m\n\u001b[0m\u001b[1;32m     70\u001b[0m             \u001b[0;31m# Here we add an exception for the HD_17 model. This model requires that for bandpass\u001b[0m\u001b[0;34m\u001b[0m\u001b[0;34m\u001b[0m\u001b[0m\n\u001b[1;32m     71\u001b[0m             \u001b[0;31m# integration the model be inistialized knowing the bandpass specification, rather than\u001b[0m\u001b[0;34m\u001b[0m\u001b[0;34m\u001b[0m\u001b[0m\n",
      "\u001b[0;32m/home/bthorne/Projects/PySM/PySM_public/pysm/pysm.py\u001b[0m in \u001b[0;36mcomponent_adder\u001b[0;34m(component_class, dictionary_list, **kwargs)\u001b[0m\n\u001b[1;32m    582\u001b[0m     \u001b[0;31m# instantiate the component's class. We then take the\u001b[0m\u001b[0;34m\u001b[0m\u001b[0;34m\u001b[0m\u001b[0m\n\u001b[1;32m    583\u001b[0m     \u001b[0;31m# signal produced by that population.\u001b[0m\u001b[0;34m\u001b[0m\u001b[0;34m\u001b[0m\u001b[0m\n\u001b[0;32m--> 584\u001b[0;31m     \u001b[0mpopulation_signals\u001b[0m \u001b[0;34m=\u001b[0m \u001b[0;34m[\u001b[0m\u001b[0mcomponent_class\u001b[0m\u001b[0;34m(\u001b[0m\u001b[0mdic\u001b[0m\u001b[0;34m)\u001b[0m\u001b[0;34m.\u001b[0m\u001b[0msignal\u001b[0m\u001b[0;34m(\u001b[0m\u001b[0;34m**\u001b[0m\u001b[0mkwargs\u001b[0m\u001b[0;34m)\u001b[0m \u001b[0;32mfor\u001b[0m \u001b[0mdic\u001b[0m \u001b[0;32min\u001b[0m \u001b[0mdictionary_list\u001b[0m\u001b[0;34m]\u001b[0m\u001b[0;34m\u001b[0m\u001b[0m\n\u001b[0m\u001b[1;32m    585\u001b[0m     \u001b[0;31m# sigs is now a list of functions. Each function is the emission\u001b[0m\u001b[0;34m\u001b[0m\u001b[0;34m\u001b[0m\u001b[0m\n\u001b[1;32m    586\u001b[0m     \u001b[0;31m# due to a population of the component.\u001b[0m\u001b[0;34m\u001b[0m\u001b[0;34m\u001b[0m\u001b[0m\n",
      "\u001b[0;32m/home/bthorne/Projects/PySM/PySM_public/pysm/components.py\u001b[0m in \u001b[0;36m__init__\u001b[0;34m(self, config)\u001b[0m\n\u001b[1;32m    195\u001b[0m     \"\"\"\n\u001b[1;32m    196\u001b[0m     \u001b[0;32mdef\u001b[0m \u001b[0m__init__\u001b[0m\u001b[0;34m(\u001b[0m\u001b[0mself\u001b[0m\u001b[0;34m,\u001b[0m \u001b[0mconfig\u001b[0m\u001b[0;34m)\u001b[0m\u001b[0;34m:\u001b[0m\u001b[0;34m\u001b[0m\u001b[0m\n\u001b[0;32m--> 197\u001b[0;31m         \u001b[0;32mfor\u001b[0m \u001b[0mk\u001b[0m \u001b[0;32min\u001b[0m \u001b[0mconfig\u001b[0m\u001b[0;34m.\u001b[0m\u001b[0mkeys\u001b[0m\u001b[0;34m(\u001b[0m\u001b[0;34m)\u001b[0m\u001b[0;34m:\u001b[0m\u001b[0;34m\u001b[0m\u001b[0m\n\u001b[0m\u001b[1;32m    198\u001b[0m             \u001b[0mread_key\u001b[0m\u001b[0;34m(\u001b[0m\u001b[0mself\u001b[0m\u001b[0;34m,\u001b[0m \u001b[0mk\u001b[0m\u001b[0;34m,\u001b[0m \u001b[0mconfig\u001b[0m\u001b[0;34m)\u001b[0m\u001b[0;34m\u001b[0m\u001b[0m\n\u001b[1;32m    199\u001b[0m         \u001b[0;32mreturn\u001b[0m\u001b[0;34m\u001b[0m\u001b[0m\n",
      "\u001b[0;31mAttributeError\u001b[0m: 'str' object has no attribute 'keys'"
     ]
    }
   ],
   "source": [
    "import pysm\n",
    "sky_config = {'dust': interp_model}\n",
    "sky = pysm.Sky(sky_config)"
   ]
  },
  {
   "cell_type": "code",
   "execution_count": null,
   "metadata": {
    "collapsed": true
   },
   "outputs": [],
   "source": [
    "# Remove maps\n",
    "for fpath, hpix_map in zip(fpaths, maps):\n",
    "    os.remove(fpath)\n",
    "# Remove info file\n",
    "os.remove('test.txt')"
   ]
  }
 ],
 "metadata": {
  "kernelspec": {
   "display_name": "Python 2",
   "language": "python",
   "name": "python2"
  },
  "language_info": {
   "codemirror_mode": {
    "name": "ipython",
    "version": 2
   },
   "file_extension": ".py",
   "mimetype": "text/x-python",
   "name": "python",
   "nbconvert_exporter": "python",
   "pygments_lexer": "ipython2",
   "version": "2.7.12"
  }
 },
 "nbformat": 4,
 "nbformat_minor": 2
}
